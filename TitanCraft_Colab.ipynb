{
 "cells": [
  {
   "cell_type": "markdown",
   "metadata": {},
   "source": [
    "## 環境構築"
   ]
  },
  {
   "cell_type": "markdown",
   "metadata": {},
   "source": [
    "### Clone repository"
   ]
  },
  {
   "cell_type": "code",
   "execution_count": null,
   "metadata": {},
   "outputs": [],
   "source": [
    "!git clone https://github.com/takecx/TitanCraft.git\n",
    "%cd TitanCraft"
   ]
  },
  {
   "cell_type": "markdown",
   "metadata": {},
   "source": [
    "### Resotre submodules"
   ]
  },
  {
   "cell_type": "code",
   "execution_count": null,
   "metadata": {},
   "outputs": [],
   "source": [
    "!git submodule update -i\n",
    "%cd remove_bg\n",
    "!git submodule update -i\n",
    "%cd .."
   ]
  },
  {
   "cell_type": "markdown",
   "metadata": {},
   "source": [
    "### Download `FBA_Matting` model"
   ]
  },
  {
   "cell_type": "code",
   "execution_count": null,
   "metadata": {},
   "outputs": [],
   "source": [
    "!gdown  https://drive.google.com/uc?id=1T_oiKDE_biWf2kqexMEN7ObWqtXAzbB1\n",
    "!mv ./FBA.pth ./remove_bg/FBA_Matting/FBA.pth"
   ]
  },
  {
   "cell_type": "markdown",
   "metadata": {},
   "source": [
    "### Download `PIFu` model"
   ]
  },
  {
   "cell_type": "code",
   "execution_count": null,
   "metadata": {},
   "outputs": [],
   "source": [
    "!gdown https://drive.google.com/uc?id=1zEmVXG2VHy0MMzngcRshB4D8Sr_oLHsm\n",
    "!gdown https://drive.google.com/uc?id=1V83B6GDIjYMfHdpg-KcCSAPgHxpafHgd\n",
    "!mkdir ./PIFu/checkpoints\n",
    "!mv ./net_C ./PIFu/checkpoints/\n",
    "!mv ./net_G ./PIFu/checkpoints/"
   ]
  },
  {
   "cell_type": "markdown",
   "metadata": {},
   "source": [
    "### Create python Environment"
   ]
  },
  {
   "cell_type": "code",
   "execution_count": null,
   "metadata": {},
   "outputs": [],
   "source": [
    "!pip install -r requirements.txt"
   ]
  },
  {
   "cell_type": "markdown",
   "metadata": {},
   "source": [
    "### パラメータ設定"
   ]
  },
  {
   "cell_type": "code",
   "execution_count": null,
   "metadata": {},
   "outputs": [],
   "source": [
    "##### 必須パラメータ #####\n",
    "# image name\n",
    "input_image = 'sample.png'\n",
    "\n",
    "#### オプションパラメータ #####\n",
    "# schematicファイルの出力フォルダ\n",
    "output_dir = './output'\n",
    "# 入力画像のリサイズ\n",
    "resize = 512\n",
    "# モルフォロジー変換のカーネルサイズ\n",
    "kernel_size = 5\n",
    "# モルフォロジー変換の繰り返し回数\n",
    "iteration = 3\n",
    "# 変換後の巨人のマインクラフトでの最大高さ\n",
    "h_max = 100\n",
    "# 変換後の巨人のマインクラフトでの最大横幅\n",
    "w_max = 100"
   ]
  },
  {
   "cell_type": "code",
   "execution_count": null,
   "metadata": {},
   "outputs": [],
   "source": [
    "python TitanGenerator.py $input_image --resize $resize --kernel_size $kernel_size --iteration $iteration --output_dir $output_dir --h_max $h_max --w_max $w_max"
   ]
  }
 ],
 "metadata": {
  "language_info": {
   "codemirror_mode": {
    "name": "ipython",
    "version": 3
   },
   "file_extension": ".py",
   "mimetype": "text/x-python",
   "name": "python",
   "nbconvert_exporter": "python",
   "pygments_lexer": "ipython3",
   "version": "3.7.7-final"
  },
  "orig_nbformat": 2,
  "kernelspec": {
   "name": "titan",
   "display_name": "titan"
  }
 },
 "nbformat": 4,
 "nbformat_minor": 2
}