{
 "cells": [
  {
   "cell_type": "markdown",
   "metadata": {},
   "source": [
    "# 概要\n",
    "1. [remove_bg](https://github.com/takecx/remove_bg)で入力人物画像の背景を切り取った画像とmask画像を生成する\n",
    "2. [PIFu](https://github.com/shunsukesaito/PIFu)で`.obj`ファイルを生成する\n",
    "3. [obj2schematic](https://github.com/takecx/obj2schematic)で`.obj`ファイルを`.schematic`ファイルに変換する"
   ]
  },
  {
   "cell_type": "code",
   "execution_count": null,
   "metadata": {},
   "outputs": [],
   "source": [
    "input_image = 'data/sample.png'\n",
    "\n",
    "# remove_bg\n",
    "kernel_size = 5\n",
    "iteration = 3\n",
    "\n",
    "# obj2schematic\n",
    "w_max = 100\n",
    "h_max = 100"
   ]
  },
  {
   "cell_type": "code",
   "execution_count": null,
   "metadata": {},
   "outputs": [],
   "source": [
    "import sys,os\n",
    "input_basename = os.path.splitext(os.path.basename(input_image))[0]"
   ]
  },
  {
   "cell_type": "markdown",
   "metadata": {},
   "source": [
    "## remove_bg"
   ]
  },
  {
   "cell_type": "code",
   "execution_count": null,
   "metadata": {},
   "outputs": [],
   "source": [
    "remove_bg_path = os.path.join(os.path.abspath(''), 'remove_bg/FBA_Matting')\n",
    "if not remove_bg_path in sys.path:\n",
    "    sys.path.append(remove_bg_path)"
   ]
  },
  {
   "cell_type": "code",
   "execution_count": null,
   "metadata": {},
   "outputs": [],
   "source": [
    "!python remove_bg/BackgroundRemover.py $input_image --kernel_size $kernel_size --iteration $iteration"
   ]
  },
  {
   "cell_type": "markdown",
   "metadata": {},
   "source": [
    "## PIFu"
   ]
  },
  {
   "cell_type": "code",
   "execution_count": null,
   "metadata": {},
   "outputs": [],
   "source": [
    "# Training\n",
    "GPU_ID=0\n",
    "NAME='pifu_demo'\n",
    "\n",
    "# Network configuration\n",
    "BATCH_SIZE=1\n",
    "MLP_DIM='257 1024 512 256 128 1'\n",
    "MLP_DIM_COLOR='513 1024 512 256 128 3'\n",
    "\n",
    "# Reconstruction resolution\n",
    "# NOTE: one can change here to reconstruct mesh in a different resolution.\n",
    "VOL_RES=256\n",
    "\n",
    "CHECKPOINTS_NETG_PATH='./PIFu/checkpoints/net_G'\n",
    "CHECKPOINTS_NETC_PATH='./PIFu/checkpoints/net_C'\n",
    "\n",
    "TEST_FOLDER_PATH='./output'\n",
    "\n",
    "# command\n",
    "!CUDA_VISIBLE_DEVICES=$GPU_ID python ./PIFu/apps/eval.py \\\n",
    "    --name $NAME \\\n",
    "    --batch_size $BATCH_SIZE \\\n",
    "    --mlp_dim $MLP_DIM \\\n",
    "    --mlp_dim_color $MLP_DIM_COLOR \\\n",
    "    --num_stack 4 \\\n",
    "    --num_hourglass 2 \\\n",
    "    --resolution $VOL_RES \\\n",
    "    --hg_down 'ave_pool' \\\n",
    "    --norm 'group' \\\n",
    "    --norm_color 'group' \\\n",
    "    --test_folder_path $TEST_FOLDER_PATH \\\n",
    "    --load_netG_checkpoint_path $CHECKPOINTS_NETG_PATH \\\n",
    "    --load_netC_checkpoint_path $CHECKPOINTS_NETC_PATH"
   ]
  },
  {
   "cell_type": "markdown",
   "metadata": {},
   "source": [
    "## obj2schematic"
   ]
  },
  {
   "cell_type": "code",
   "execution_count": null,
   "metadata": {},
   "outputs": [],
   "source": [
    "pifu_obj = os.path.join('./results/pifu_demo/', 'result_' + input_basename + '_fg.obj')"
   ]
  },
  {
   "cell_type": "code",
   "execution_count": null,
   "metadata": {},
   "outputs": [],
   "source": [
    "!python obj2schematic/Obj2SchemticConverter.py $pifu_obj  --h_max $h_max --w_max $w_max"
   ]
  },
  {
   "cell_type": "code",
   "execution_count": null,
   "metadata": {},
   "outputs": [],
   "source": []
  }
 ],
 "metadata": {
  "kernelspec": {
   "display_name": "titan",
   "language": "python",
   "name": "titan"
  },
  "language_info": {
   "codemirror_mode": {
    "name": "ipython",
    "version": 3
   },
   "file_extension": ".py",
   "mimetype": "text/x-python",
   "name": "python",
   "nbconvert_exporter": "python",
   "pygments_lexer": "ipython3",
   "version": "3.7.7"
  }
 },
 "nbformat": 4,
 "nbformat_minor": 2
}
